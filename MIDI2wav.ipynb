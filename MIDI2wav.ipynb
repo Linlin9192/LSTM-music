{
 "cells": [
  {
   "cell_type": "code",
   "execution_count": 6,
   "metadata": {},
   "outputs": [],
   "source": [
    "import muspy"
   ]
  },
  {
   "cell_type": "code",
   "execution_count": 7,
   "metadata": {},
   "outputs": [],
   "source": [
    "mysample = muspy.read_midi('Melody_Generated_1.mid')\n",
    "muspy.write_audio('Melody1.wav',mysample,'wav',rate=44100)"
   ]
  },
  {
   "cell_type": "code",
   "execution_count": 8,
   "metadata": {},
   "outputs": [],
   "source": [
    "mysample = muspy.read_midi('Melody_Generated_2.mid')\n",
    "muspy.write_audio('Melody2.wav',mysample,'wav',rate=44100)"
   ]
  },
  {
   "cell_type": "code",
   "execution_count": 9,
   "metadata": {},
   "outputs": [],
   "source": [
    "mysample = muspy.read_midi('Melody_Generated_3.mid')\n",
    "muspy.write_audio('Melody3.wav',mysample,'wav',rate=44100)"
   ]
  },
  {
   "cell_type": "code",
   "execution_count": 10,
   "metadata": {},
   "outputs": [],
   "source": [
    "mysample = muspy.read_midi('Melody_Generated_4.mid')\n",
    "muspy.write_audio('Melody4.wav',mysample,'wav',rate=44100)"
   ]
  }
 ],
 "metadata": {
  "interpreter": {
   "hash": "81fd4e0be55a93d5c4e75efeac56fee92f13000fa941c871596362b204fef882"
  },
  "kernelspec": {
   "display_name": "Python 3.8.8 ('base')",
   "language": "python",
   "name": "python3"
  },
  "language_info": {
   "codemirror_mode": {
    "name": "ipython",
    "version": 3
   },
   "file_extension": ".py",
   "mimetype": "text/x-python",
   "name": "python",
   "nbconvert_exporter": "python",
   "pygments_lexer": "ipython3",
   "version": "3.8.8"
  },
  "orig_nbformat": 4
 },
 "nbformat": 4,
 "nbformat_minor": 2
}
